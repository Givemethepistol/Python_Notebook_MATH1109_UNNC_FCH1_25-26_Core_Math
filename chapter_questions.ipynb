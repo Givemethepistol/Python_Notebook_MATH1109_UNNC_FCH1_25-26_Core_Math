{
 "cells": [
  {
   "cell_type": "markdown",
   "id": "75a33dc1-dca7-4848-a7c2-fda7e5d5fc76",
   "metadata": {},
   "source": [
    "### Instruction\n",
    "\n",
    "1. X.Y X means the chapter number, and Y means the subsection number of this chapter, and if there's another number, which means more than 1 question."
   ]
  },
  {
   "cell_type": "code",
   "execution_count": 17,
   "id": "1946aa1d-e37f-4aa1-a52a-8c077acdfa18",
   "metadata": {},
   "outputs": [],
   "source": [
    "import math\n",
    "import numpy as np"
   ]
  },
  {
   "cell_type": "markdown",
   "id": "1229d8bb-dd05-43f3-8ba8-6754a7ac4262",
   "metadata": {},
   "source": [
    "### 9.1 Basic NumPy Usage\n",
    "\n",
    "1. Write your own logarithm function that will compute the logarithm of a number to any given positive base, *i.e.* it should take two inputs, the value to be logged and the base."
   ]
  },
  {
   "cell_type": "code",
   "execution_count": 18,
   "id": "91495a21-baa9-4187-a662-0ee80f4f1a35",
   "metadata": {},
   "outputs": [
    {
     "name": "stdout",
     "output_type": "stream",
     "text": [
      "8.827469119589406\n"
     ]
    }
   ],
   "source": [
    "def log_function(a,b):\n",
    "    result=np.log(b)/np.log(a) # a as the base\n",
    "    return result\n",
    "    \n",
    "log_input = log_function(1.2,5)\n",
    "print(log_result)"
   ]
  },
  {
   "cell_type": "markdown",
   "id": "c536f97b-1322-4141-be23-4286e28964db",
   "metadata": {},
   "source": [
    "2. Write your own trigonometric functions that use the NumPy functions but that work with degrees instead of radians."
   ]
  },
  {
   "cell_type": "code",
   "execution_count": 19,
   "id": "404db0f9-ebf5-48d7-ac08-facfb05ff779",
   "metadata": {},
   "outputs": [
    {
     "name": "stdout",
     "output_type": "stream",
     "text": [
      "The sin value is:  0.838670567945424\n",
      "The cos value is:  -0.5446390350150272\n",
      "The tan value is:  -1.539864963814583\n"
     ]
    }
   ],
   "source": [
    "def trig_func(degrees):\n",
    "    radians=degrees*math.pi/180\n",
    "    sin_result=np.sin(radians)\n",
    "    cos_result=np.cos(radians)\n",
    "    tan_result=np.tan(radians)\n",
    "    return sin_result,cos_result,tan_result\n",
    "\n",
    "sin_val, cos_val, tan_val = trig_func(123)\n",
    "print(\"The sin value is: \",sin_val)\n",
    "print(\"The cos value is: \",cos_val)\n",
    "print(\"The tan value is: \",tan_val)"
   ]
  },
  {
   "cell_type": "markdown",
   "id": "3b400bba-f72b-45ef-8020-f51d81f6cbb7",
   "metadata": {},
   "source": [
    "### 9.2 Creating Vectors in NumPy\n",
    "\n",
    "1. Use the `np.array()` function to create an array with the entries 2, 4, 6, 8 and 10 in it."
   ]
  },
  {
   "cell_type": "code",
   "execution_count": 23,
   "id": "317c4615-ecd2-4b1b-9c08-2308d6e69a73",
   "metadata": {},
   "outputs": [],
   "source": [
    "array1 = np.array([2,4,6,8,10])"
   ]
  },
  {
   "cell_type": "markdown",
   "id": "e7e5d807-8c5f-46eb-a8b8-8b599c8c2bd3",
   "metadata": {},
   "source": [
    "2. Use the `np.array()` function to create an array with complex numbers `1+i`, `2+2i`, `3+3i`, `4+4i` in it."
   ]
  },
  {
   "cell_type": "code",
   "execution_count": null,
   "id": "3084b048-6f8c-474d-b3fe-ac07f73902e7",
   "metadata": {},
   "outputs": [],
   "source": [
    "array2 = np.array()"
   ]
  },
  {
   "cell_type": "markdown",
   "id": "8b493166-44f1-4217-910d-e09cdda2b225",
   "metadata": {},
   "source": [
    "3. Use `np.zeros()` to create a vector of zeros of length 10."
   ]
  },
  {
   "cell_type": "code",
   "execution_count": null,
   "id": "e6922bda-1149-4b21-ae65-b0832922ee04",
   "metadata": {},
   "outputs": [],
   "source": []
  },
  {
   "cell_type": "markdown",
   "id": "6d7d2dd7-4078-4f54-9419-4fe38669cc04",
   "metadata": {},
   "source": [
    "4. Use `np.linspace()` to create a vector of length 15 between `a=5` and `b=19`."
   ]
  },
  {
   "cell_type": "code",
   "execution_count": null,
   "id": "a123f6e6-86c3-4734-8492-11426e1aab1c",
   "metadata": {},
   "outputs": [],
   "source": []
  },
  {
   "cell_type": "markdown",
   "id": "d4534db4-501b-451a-b375-f863650a0f41",
   "metadata": {},
   "source": [
    "5. Use `np.logspace()` to create a vector of length 10 between $10^{-9}$ and $10^0$. "
   ]
  },
  {
   "cell_type": "code",
   "execution_count": null,
   "id": "ef0c6120-5d8f-4c32-a46e-f23747c1211b",
   "metadata": {},
   "outputs": [],
   "source": []
  },
  {
   "cell_type": "code",
   "execution_count": null,
   "id": "e8a8f242-e514-416f-aa98-200cdc609711",
   "metadata": {},
   "outputs": [],
   "source": []
  },
  {
   "cell_type": "code",
   "execution_count": null,
   "id": "67a94e09-7cb2-4a50-8179-e0de99d848fb",
   "metadata": {},
   "outputs": [],
   "source": []
  },
  {
   "cell_type": "code",
   "execution_count": null,
   "id": "639765d7-d1c2-46f1-8602-598f92586ca3",
   "metadata": {},
   "outputs": [],
   "source": []
  },
  {
   "cell_type": "code",
   "execution_count": null,
   "id": "87e78877-d33b-4763-845a-a1e42c47d008",
   "metadata": {},
   "outputs": [],
   "source": []
  }
 ],
 "metadata": {
  "kernelspec": {
   "display_name": "Python [conda env:base] *",
   "language": "python",
   "name": "conda-base-py"
  },
  "language_info": {
   "codemirror_mode": {
    "name": "ipython",
    "version": 3
   },
   "file_extension": ".py",
   "mimetype": "text/x-python",
   "name": "python",
   "nbconvert_exporter": "python",
   "pygments_lexer": "ipython3",
   "version": "3.13.5"
  }
 },
 "nbformat": 4,
 "nbformat_minor": 5
}
