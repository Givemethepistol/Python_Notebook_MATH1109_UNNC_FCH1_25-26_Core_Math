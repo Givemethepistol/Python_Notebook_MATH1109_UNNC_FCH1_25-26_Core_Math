{
 "cells": [
  {
   "cell_type": "markdown",
   "id": "75a33dc1-dca7-4848-a7c2-fda7e5d5fc76",
   "metadata": {},
   "source": [
    "### Instruction\n",
    "\n",
    "1. X.Y: X means the chapter number, and Y means the subsection number of this chapter, and if there's another number, which means more than 1 question.\n",
    "2. To facilitate quick retrieval, you may click on each heading to collapse the questions.\n",
    "\n",
    "\n"
   ]
  },
  {
   "cell_type": "code",
   "execution_count": 1,
   "id": "1946aa1d-e37f-4aa1-a52a-8c077acdfa18",
   "metadata": {},
   "outputs": [],
   "source": [
    "import math\n",
    "import numpy as np"
   ]
  },
  {
   "cell_type": "markdown",
   "id": "1229d8bb-dd05-43f3-8ba8-6754a7ac4262",
   "metadata": {
    "jp-MarkdownHeadingCollapsed": true
   },
   "source": [
    "### 9.1 Basic NumPy Usage\n",
    "\n",
    "1. Write your own logarithm function that will compute the logarithm of a number to any given positive base, *i.e.* it should take two inputs, the value to be logged and the base."
   ]
  },
  {
   "cell_type": "code",
   "execution_count": 5,
   "id": "91495a21-baa9-4187-a662-0ee80f4f1a35",
   "metadata": {},
   "outputs": [
    {
     "data": {
      "text/plain": [
       "np.float64(8.827469119589406)"
      ]
     },
     "execution_count": 5,
     "metadata": {},
     "output_type": "execute_result"
    }
   ],
   "source": [
    "def log_function(a,b):\n",
    "    result=np.log(b)/np.log(a) # a as the base\n",
    "    return result\n",
    "    \n",
    "log_input = log_function(1.2,5)\n",
    "log_input"
   ]
  },
  {
   "cell_type": "markdown",
   "id": "c536f97b-1322-4141-be23-4286e28964db",
   "metadata": {},
   "source": [
    "2. Write your own trigonometric functions that use the NumPy functions but that work with degrees instead of radians."
   ]
  },
  {
   "cell_type": "code",
   "execution_count": 3,
   "id": "404db0f9-ebf5-48d7-ac08-facfb05ff779",
   "metadata": {},
   "outputs": [
    {
     "name": "stdout",
     "output_type": "stream",
     "text": [
      "The sin value is:  0.838670567945424\n",
      "The cos value is:  -0.5446390350150272\n",
      "The tan value is:  -1.539864963814583\n"
     ]
    }
   ],
   "source": [
    "def trig_func(degrees):\n",
    "    radians=degrees*math.pi/180\n",
    "    sin_result=np.sin(radians)\n",
    "    cos_result=np.cos(radians)\n",
    "    tan_result=np.tan(radians)\n",
    "    return sin_result,cos_result,tan_result\n",
    "\n",
    "sin_val, cos_val, tan_val = trig_func(123)\n",
    "print(\"The sin value is: \",sin_val)\n",
    "print(\"The cos value is: \",cos_val)\n",
    "print(\"The tan value is: \",tan_val)"
   ]
  },
  {
   "cell_type": "markdown",
   "id": "3b400bba-f72b-45ef-8020-f51d81f6cbb7",
   "metadata": {
    "jp-MarkdownHeadingCollapsed": true
   },
   "source": [
    "### 9.2 Creating Vectors in NumPy\n",
    "\n",
    "1. Use the `np.array()` function to create an array with the entries 2, 4, 6, 8 and 10 in it."
   ]
  },
  {
   "cell_type": "code",
   "execution_count": 41,
   "id": "317c4615-ecd2-4b1b-9c08-2308d6e69a73",
   "metadata": {},
   "outputs": [
    {
     "data": {
      "text/plain": [
       "array([ 2,  4,  6,  8, 10])"
      ]
     },
     "execution_count": 41,
     "metadata": {},
     "output_type": "execute_result"
    }
   ],
   "source": [
    "np.array([2,4,6,8,10])"
   ]
  },
  {
   "cell_type": "markdown",
   "id": "e7e5d807-8c5f-46eb-a8b8-8b599c8c2bd3",
   "metadata": {},
   "source": [
    "2. Use the `np.array()` function to create an array with complex numbers `1+i`, `2+2i`, `3+3i`, `4+4i` in it."
   ]
  },
  {
   "cell_type": "code",
   "execution_count": 40,
   "id": "3084b048-6f8c-474d-b3fe-ac07f73902e7",
   "metadata": {},
   "outputs": [
    {
     "data": {
      "text/plain": [
       "array([1.+1.j, 2.+2.j, 3.+3.j, 4.+4.j])"
      ]
     },
     "execution_count": 40,
     "metadata": {},
     "output_type": "execute_result"
    }
   ],
   "source": [
    "np.array([1+1j,2+2j,3+3j,4+4j])\n",
    "# There must be a number before 'j'\n",
    "# j is Python's native imaginary unit symbol."
   ]
  },
  {
   "cell_type": "markdown",
   "id": "8b493166-44f1-4217-910d-e09cdda2b225",
   "metadata": {},
   "source": [
    "3. Use `np.zeros()` to create a vector of zeros of length 10."
   ]
  },
  {
   "cell_type": "code",
   "execution_count": 39,
   "id": "e6922bda-1149-4b21-ae65-b0832922ee04",
   "metadata": {},
   "outputs": [
    {
     "data": {
      "text/plain": [
       "array([0., 0., 0., 0., 0., 0., 0., 0., 0., 0.])"
      ]
     },
     "execution_count": 39,
     "metadata": {},
     "output_type": "execute_result"
    }
   ],
   "source": [
    "np.zeros(10)"
   ]
  },
  {
   "cell_type": "markdown",
   "id": "6d7d2dd7-4078-4f54-9419-4fe38669cc04",
   "metadata": {},
   "source": [
    "4. Use `np.linspace()` to create a vector of length 15 between `a=5` and `b=19`."
   ]
  },
  {
   "cell_type": "code",
   "execution_count": 38,
   "id": "a123f6e6-86c3-4734-8492-11426e1aab1c",
   "metadata": {},
   "outputs": [
    {
     "data": {
      "text/plain": [
       "array([ 5.,  6.,  7.,  8.,  9., 10., 11., 12., 13., 14., 15., 16., 17.,\n",
       "       18., 19.])"
      ]
     },
     "execution_count": 38,
     "metadata": {},
     "output_type": "execute_result"
    }
   ],
   "source": [
    "np.linspace(5,19,15)"
   ]
  },
  {
   "cell_type": "markdown",
   "id": "d4534db4-501b-451a-b375-f863650a0f41",
   "metadata": {},
   "source": [
    "5. Use `np.logspace()` to create a vector of length 10 between $10^{-9}$ and $10^0$. "
   ]
  },
  {
   "cell_type": "code",
   "execution_count": 6,
   "id": "ef0c6120-5d8f-4c32-a46e-f23747c1211b",
   "metadata": {},
   "outputs": [
    {
     "data": {
      "text/plain": [
       "array([1.e-09, 1.e-08, 1.e-07, 1.e-06, 1.e-05, 1.e-04, 1.e-03, 1.e-02,\n",
       "       1.e-01, 1.e+00])"
      ]
     },
     "execution_count": 6,
     "metadata": {},
     "output_type": "execute_result"
    }
   ],
   "source": [
    "np.logspace(-9,0,10)"
   ]
  },
  {
   "cell_type": "markdown",
   "id": "f70ae053-b71a-4ee7-9256-bf2c65088e74",
   "metadata": {},
   "source": [
    "### 9.3 Working with Vectors\n",
    "\n",
    "1. Use `np.zeros()` to create a vector of length 4.\n",
    "    - Manually fill the 0th and 2nd entries with the value 2 and 4, respectively.\n",
    "    - What happens if you try and fill entry 1 with a complex number?\n",
    "    - Instead, use the syntax `np.zeros(4,complex)` to set the array up. Can you use complex numbers now? "
   ]
  },
  {
   "cell_type": "code",
   "execution_count": 19,
   "id": "67a94e09-7cb2-4a50-8179-e0de99d848fb",
   "metadata": {},
   "outputs": [
    {
     "name": "stdout",
     "output_type": "stream",
     "text": [
      "[3. 0. 4. 0.]\n",
      "[0.+0.j 2.+3.j 0.+0.j 0.+0.j]\n"
     ]
    }
   ],
   "source": [
    "vec = np.zeros(4)\n",
    "vec[0] = 3\n",
    "vec[2] = 4\n",
    "new_vec = np.zeros(4,complex)\n",
    "new_vec[1] = 2+3j\n",
    "print(vec)\n",
    "print(new_vec)"
   ]
  },
  {
   "cell_type": "markdown",
   "id": "27aa9ac9-64f8-4ee9-844f-b0c23b738981",
   "metadata": {},
   "source": [
    "\n",
    "2. Use `np.linspace()` to set up a vector containing the first 10 natural numbers.\n",
    "    - Use slicing to extract the odd valued natural numbers as an array.\n",
    "    - Use slicing to extract the even valued natural numbers as an array.\n",
    "    - Use slicing to extract an array of the even natural numbers but counting backwards from 10."
   ]
  },
  {
   "cell_type": "code",
   "execution_count": null,
   "id": "7e25b88f-e58a-4ee3-801a-86f684ed23cd",
   "metadata": {},
   "outputs": [],
   "source": []
  },
  {
   "cell_type": "markdown",
   "id": "25184bec-4f4f-4421-a7d7-ff6b219ff96d",
   "metadata": {},
   "source": [
    "3. Investigate the use of `np.sum()` and `np.prod()` applied to a NumPy array."
   ]
  },
  {
   "cell_type": "code",
   "execution_count": null,
   "id": "db8b77fb-e455-455b-afb3-b2f2a146901e",
   "metadata": {},
   "outputs": [],
   "source": []
  },
  {
   "cell_type": "markdown",
   "id": "aa4238b2-f5b8-4655-91f6-2e51dba5584d",
   "metadata": {},
   "source": [
    "4. Write a function that will find the angle between 2 vectors. These vectors should be of length $2$ or $3$ and your code should check that this is the case and give appropriate error messages if not."
   ]
  },
  {
   "cell_type": "code",
   "execution_count": null,
   "id": "2b2c128d-5482-43dc-a218-b8891e17fbd5",
   "metadata": {},
   "outputs": [],
   "source": []
  },
  {
   "cell_type": "code",
   "execution_count": null,
   "id": "5dc35d06-f673-4f64-b2af-d89cc36adde1",
   "metadata": {},
   "outputs": [],
   "source": []
  },
  {
   "cell_type": "code",
   "execution_count": null,
   "id": "e52adcbb-79d6-43e2-9507-7584c9f3918d",
   "metadata": {},
   "outputs": [],
   "source": []
  },
  {
   "cell_type": "code",
   "execution_count": null,
   "id": "b6b9083f-498c-4443-8bf1-a06a8ede6ad0",
   "metadata": {},
   "outputs": [],
   "source": []
  },
  {
   "cell_type": "code",
   "execution_count": null,
   "id": "8020dbd0-f413-4554-8dfe-0d030687aa45",
   "metadata": {},
   "outputs": [],
   "source": []
  },
  {
   "cell_type": "code",
   "execution_count": null,
   "id": "82e83c06-89cd-4c3a-8e69-bd9d40053d7a",
   "metadata": {},
   "outputs": [],
   "source": []
  },
  {
   "cell_type": "code",
   "execution_count": null,
   "id": "75027421-7a87-4f59-85d0-4ebc775d38b3",
   "metadata": {},
   "outputs": [],
   "source": []
  },
  {
   "cell_type": "code",
   "execution_count": null,
   "id": "58720592-1efb-4958-a78b-d84a9b972d01",
   "metadata": {},
   "outputs": [],
   "source": []
  },
  {
   "cell_type": "code",
   "execution_count": null,
   "id": "a9484282-1731-486f-8382-139bd8071676",
   "metadata": {},
   "outputs": [],
   "source": []
  },
  {
   "cell_type": "code",
   "execution_count": null,
   "id": "87e78877-d33b-4763-845a-a1e42c47d008",
   "metadata": {},
   "outputs": [],
   "source": []
  }
 ],
 "metadata": {
  "kernelspec": {
   "display_name": "Python [conda env:base] *",
   "language": "python",
   "name": "conda-base-py"
  },
  "language_info": {
   "codemirror_mode": {
    "name": "ipython",
    "version": 3
   },
   "file_extension": ".py",
   "mimetype": "text/x-python",
   "name": "python",
   "nbconvert_exporter": "python",
   "pygments_lexer": "ipython3",
   "version": "3.13.5"
  }
 },
 "nbformat": 4,
 "nbformat_minor": 5
}
